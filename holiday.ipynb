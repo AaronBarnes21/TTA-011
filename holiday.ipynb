{
 "cells": [
  {
   "cell_type": "code",
   "execution_count": 2,
   "metadata": {},
   "outputs": [
    {
     "data": {
      "text/plain": [
       "3.5"
      ]
     },
     "execution_count": 2,
     "metadata": {},
     "output_type": "execute_result"
    }
   ],
   "source": [
    "import pandas as pd\n",
    "\n",
    "data = pd.read_csv(\"holiday.csv\")\n",
    "\n",
    "data[\"rating\"].mean()"
   ]
  },
  {
   "cell_type": "code",
   "execution_count": 19,
   "metadata": {},
   "outputs": [
    {
     "data": {
      "text/plain": [
       "0     2.0\n",
       "1     2.0\n",
       "2     1.5\n",
       "3     1.5\n",
       "4     1.5\n",
       "5     2.0\n",
       "6     2.0\n",
       "7     2.0\n",
       "8     1.5\n",
       "9     1.5\n",
       "10    1.5\n",
       "11    1.5\n",
       "12    1.5\n",
       "13    2.5\n",
       "14    2.0\n",
       "15    1.5\n",
       "Name: rating, dtype: float64"
      ]
     },
     "execution_count": 19,
     "metadata": {},
     "output_type": "execute_result"
    }
   ],
   "source": [
    "import pandas as pd \n",
    "\n",
    "data = pd.read_csv(\"holiday.csv\")\n",
    "\n",
    "data[\"rating\"] / 2"
   ]
  }
 ],
 "metadata": {
  "interpreter": {
   "hash": "6fa42dd02247b83b78551d1603e1f79b28435f79a9e158231a2d8ae79f26b8c0"
  },
  "kernelspec": {
   "display_name": "Python 3.10.2 64-bit (windows store)",
   "language": "python",
   "name": "python3"
  },
  "language_info": {
   "codemirror_mode": {
    "name": "ipython",
    "version": 3
   },
   "file_extension": ".py",
   "mimetype": "text/x-python",
   "name": "python",
   "nbconvert_exporter": "python",
   "pygments_lexer": "ipython3",
   "version": "3.10.2"
  },
  "orig_nbformat": 4
 },
 "nbformat": 4,
 "nbformat_minor": 2
}
