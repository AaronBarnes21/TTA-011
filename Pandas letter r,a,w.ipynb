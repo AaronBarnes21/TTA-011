{
 "cells": [
  {
   "cell_type": "code",
   "execution_count": 1,
   "metadata": {},
   "outputs": [
    {
     "name": "stdout",
     "output_type": "stream",
     "text": [
      "Enter the Name of file"
     ]
    }
   ],
   "source": [
    "print(\"Enter the Name of file\",end=\"\")\n",
    "filename = input()\n",
    "try:\n",
    "    fo = open(filename,\"r\")\n",
    "    print(\"\\n---The content of file \\\"\", filename, \"\\\"----\",sep=\"\")\n",
    "    print(fo.read())\n",
    "except FileNotFoundError:\n",
    "    print(\"\\nThe file\\\"\",filename,\"\\\" doesn't found.\", sep=\"\")"
   ]
  },
  {
   "cell_type": "code",
   "execution_count": 1,
   "metadata": {},
   "outputs": [
    {
     "name": "stdout",
     "output_type": "stream",
     "text": [
      "The file \"Numbers.txt\" is created.\n"
     ]
    }
   ],
   "source": [
    "file_handler = open(\"Numbers.txt\",\"w\")\n",
    "print(\"The file \\\"Numbers.txt\\\" is created.\")"
   ]
  },
  {
   "cell_type": "code",
   "execution_count": 1,
   "metadata": {},
   "outputs": [
    {
     "name": "stdout",
     "output_type": "stream",
     "text": [
      "3,45,83,21\n"
     ]
    }
   ],
   "source": [
    "fo = open(\"Numbers.txt\",\"r\") \n",
    "content =fo.read()\n",
    "print(content)"
   ]
  },
  {
   "cell_type": "code",
   "execution_count": 6,
   "metadata": {},
   "outputs": [
    {
     "name": "stdout",
     "output_type": "stream",
     "text": [
      "The list of \"a\"is:\n",
      "[3, 45, 81, 21]\n",
      "\n",
      "The list\"is\n",
      "[3, 45, 81, 21]\n",
      "\n",
      "The list\\ is:\n",
      "[]\n",
      "\n",
      "Now the list \"c\" is:\n",
      "[3, 45, 81, 21]\n"
     ]
    }
   ],
   "source": [
    "a =[3,45,81,21]\n",
    "print(\"The list of \\\"a\\\"is:\")\n",
    "print (a)\n",
    "\n",
    "b = a.copy()\n",
    "print(\"\\nThe list \\b\\\"is\")\n",
    "print(b)\n",
    "\n",
    "c = []\n",
    "print(\"\\nThe list \\b\\ is:\")\n",
    "print(c)\n",
    "\n",
    "c = b.copy()\n",
    "print(\"\\nNow the list \\\"c\\\" is:\")\n",
    "print(c)"
   ]
  }
 ],
 "metadata": {
  "interpreter": {
   "hash": "6fa42dd02247b83b78551d1603e1f79b28435f79a9e158231a2d8ae79f26b8c0"
  },
  "kernelspec": {
   "display_name": "Python 3.10.2 64-bit (windows store)",
   "language": "python",
   "name": "python3"
  },
  "language_info": {
   "codemirror_mode": {
    "name": "ipython",
    "version": 3
   },
   "file_extension": ".py",
   "mimetype": "text/x-python",
   "name": "python",
   "nbconvert_exporter": "python",
   "pygments_lexer": "ipython3",
   "version": "3.10.2"
  },
  "orig_nbformat": 4
 },
 "nbformat": 4,
 "nbformat_minor": 2
}
