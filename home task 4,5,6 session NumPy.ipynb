{
 "cells": [
  {
   "cell_type": "code",
   "execution_count": 10,
   "metadata": {},
   "outputs": [
    {
     "name": "stdout",
     "output_type": "stream",
     "text": [
      "[ 0  1  2  3  4  5  6  7  8  9 10 11]\n",
      "subtract : [-10  -9  -8  -7  -6  -5  -4  -3  -2  -1   0   1]\n",
      "multiply [  0  10  20  30  40  50  60  70  80  90 100 110]\n",
      "Divide [0.  0.1 0.2 0.3 0.4 0.5 0.6 0.7 0.8 0.9 1.  1.1]\n",
      "Power [  0   1   4   9  16  25  36  49  64  81 100 121]\n"
     ]
    }
   ],
   "source": [
    "import numpy as np\n",
    "\n",
    "array = np.arange(0,12)\n",
    "\n",
    "print(array)\n",
    "\n",
    "print(\"subtract :\",array -10)\n",
    "print(\"multiply\",array *10)\n",
    "print(\"Divide\",array /10)\n",
    "print(\"Power\",array **2)\n"
   ]
  },
  {
   "cell_type": "code",
   "execution_count": 14,
   "metadata": {},
   "outputs": [
    {
     "name": "stdout",
     "output_type": "stream",
     "text": [
      "[ 0  1  2  3  4  5  6  7  8  9 10 11 12 13 14 15 16 17 18 19]\n",
      "\n",
      "(20,)\n",
      "\n",
      "1\n"
     ]
    }
   ],
   "source": [
    "import numpy as np\n",
    "\n",
    "x =np.arange(20)\n",
    "print(x)\n",
    "print()\n",
    "\n",
    "print(x.shape)\n",
    "print()\n",
    "\n",
    "print(x.ndim)\n"
   ]
  },
  {
   "cell_type": "code",
   "execution_count": 17,
   "metadata": {},
   "outputs": [
    {
     "name": "stdout",
     "output_type": "stream",
     "text": [
      "[2 3 1 8 6 4 7 0 9 5]\n"
     ]
    }
   ],
   "source": [
    "\n",
    "import numpy as np\n",
    "arr= np.array([2,3,1,8,6,4,7,0,9,5])\n",
    "print(arr)\n"
   ]
  },
  {
   "cell_type": "code",
   "execution_count": 28,
   "metadata": {},
   "outputs": [
    {
     "data": {
      "text/plain": [
       "array([[34, 43],\n",
       "       [32, 38]])"
      ]
     },
     "execution_count": 28,
     "metadata": {},
     "output_type": "execute_result"
    }
   ],
   "source": [
    "\n",
    "import numpy as matlib\n",
    "import numpy as np\n",
    "a = np.array([[1,2],[2,1]])\n",
    "b = np.array([[10,11],[12,16]])\n",
    "np.dot(a,b)\n",
    "\n"
   ]
  }
 ],
 "metadata": {
  "interpreter": {
   "hash": "6fa42dd02247b83b78551d1603e1f79b28435f79a9e158231a2d8ae79f26b8c0"
  },
  "kernelspec": {
   "display_name": "Python 3.10.2 64-bit (windows store)",
   "language": "python",
   "name": "python3"
  },
  "language_info": {
   "codemirror_mode": {
    "name": "ipython",
    "version": 3
   },
   "file_extension": ".py",
   "mimetype": "text/x-python",
   "name": "python",
   "nbconvert_exporter": "python",
   "pygments_lexer": "ipython3",
   "version": "3.10.2"
  },
  "orig_nbformat": 4
 },
 "nbformat": 4,
 "nbformat_minor": 2
}
